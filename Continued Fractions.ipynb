{
 "cells": [
  {
   "cell_type": "code",
   "execution_count": null,
   "metadata": {},
   "outputs": [],
   "source": [
    "using PlotlyJS, ContinuedFractions"
   ]
  },
  {
   "cell_type": "code",
   "execution_count": null,
   "metadata": {},
   "outputs": [],
   "source": [
    "function bounds(cf::ContinuedFraction, n::Int)\n",
    "    a = quotients(cf)\n",
    "    pq = convergents(cf) |> collect  # TODO optimise\n",
    "    pn, qn = numerator(pq[n]), denominator(pq[n])\n",
    "    pn1, qn1 = n <= 1 ? (1, 0) : (numerator(pq[n-1]), denominator(pq[n-1]))\n",
    "    if n%2 == 1\n",
    "        (pn/qn, (pn + pn1)/(qn + qn1))\n",
    "    else\n",
    "        ((pn + pn1)/(qn + qn1), pn/qn)\n",
    "    end\n",
    "end"
   ]
  },
  {
   "cell_type": "code",
   "execution_count": null,
   "metadata": {},
   "outputs": [],
   "source": [
    "D = 4 # depth (number of converce steps to make)\n",
    "Q1range = 0:0 # == [0]\n",
    "Q2range = 1:5 # == [1,2,3,4,5]\n",
    "Q3range = 4:4 # == [4]\n",
    "Q4range = [1, 23]\n",
    "\n",
    "all_ranges = [Q1range, Q2range, Q3range, Q4range]\n",
    "all_bounds = Array{Tuple{Float64, Float64}, length(all_ranges) + 1}(D, map(length, all_ranges)...)\n",
    "\n",
    "for d = 1:D\n",
    "  for (i1,q1) in enumerate(Q1range)\n",
    "    for (i2,q2) in enumerate(Q2range)\n",
    "      for (i3,q3) in enumerate(Q3range)\n",
    "        for (i4,q4) in enumerate(Q4range)\n",
    "          cf1 = ContinuedFraction([q1,q2,q2,q4])\n",
    "          all_bounds[d, i1, i2, i3, i4] = bounds(cf1, d)\n",
    "          d < 4 && break\n",
    "        end\n",
    "        d < 3 && break\n",
    "      end\n",
    "      d < 2 && break\n",
    "    end\n",
    "    d < 1 && break\n",
    "  end\n",
    "end\n",
    "\n",
    "# Plot related nonsense\n",
    "TT = scatter(;x=1:2, y=[10, 15], mode=\"lines+markers\") |> typeof\n",
    "traces = TT[]\n",
    "\n",
    "function get_label(qs, d)\n",
    "    qs4depth = qs[1:d]\n",
    "    qrest_str = join(qs4depth[2:end], \", \")\n",
    "    \"[$(qs4depth[1]); $qrest_str] at $(d)\"\n",
    "end\n",
    "\n",
    "# Create the plots for each CF at each convergence depth\n",
    "for d = 1:D\n",
    "  for (i1,q1) in enumerate(Q1range)\n",
    "    for (i2,q2) in enumerate(Q2range)\n",
    "      for (i3,q3) in enumerate(Q3range)\n",
    "        for (i4,q4) in enumerate(Q4range)\n",
    "          push!(traces, scatter(;x=all_bounds[d, i1, i2, i3, i4], y=[-d,-d], \n",
    "                                mode=\"lines+markers\", name=get_label([q1, q2, q3, q4],d)))\n",
    "          d < 4 && break\n",
    "        end\n",
    "        d < 3 && break\n",
    "      end\n",
    "      d < 2 && break\n",
    "    end\n",
    "    d < 1 && break\n",
    "  end\n",
    "end\n",
    "\n",
    "plot(traces)"
   ]
  },
  {
   "cell_type": "code",
   "execution_count": null,
   "metadata": {},
   "outputs": [],
   "source": [
    "# unfinished\n",
    "function bounds(cf::ContinuedFraction, n::Vector{Int}, k::Int)\n",
    "    q = quotients(cf)\n",
    "    (q[n[k]]/4, q[n[k]]/2)\n",
    "end"
   ]
  },
  {
   "cell_type": "markdown",
   "metadata": {},
   "source": [
    "---"
   ]
  },
  {
   "cell_type": "code",
   "execution_count": null,
   "metadata": {},
   "outputs": [],
   "source": [
    "convergents(cf1) |> collect"
   ]
  },
  {
   "cell_type": "code",
   "execution_count": null,
   "metadata": {},
   "outputs": [],
   "source": [
    "cf1 = ContinuedFraction([0,1,4])\n",
    "convergents(cf1) |> collect"
   ]
  },
  {
   "cell_type": "markdown",
   "metadata": {},
   "source": [
    "---"
   ]
  },
  {
   "cell_type": "code",
   "execution_count": null,
   "metadata": {},
   "outputs": [],
   "source": [
    "cf = ContinuedFraction(sqrt(2))\n",
    "quotients(cf)"
   ]
  },
  {
   "cell_type": "code",
   "execution_count": null,
   "metadata": {},
   "outputs": [],
   "source": [
    "cs = convergents(cf) |> collect"
   ]
  },
  {
   "cell_type": "code",
   "execution_count": null,
   "metadata": {},
   "outputs": [],
   "source": [
    "println.(Float64.(cs));"
   ]
  },
  {
   "cell_type": "code",
   "execution_count": null,
   "metadata": {},
   "outputs": [],
   "source": [
    "sqrt(2)"
   ]
  },
  {
   "cell_type": "code",
   "execution_count": null,
   "metadata": {},
   "outputs": [],
   "source": [
    "numerator(cs[3])"
   ]
  },
  {
   "cell_type": "markdown",
   "metadata": {},
   "source": [
    "---"
   ]
  },
  {
   "cell_type": "code",
   "execution_count": null,
   "metadata": {},
   "outputs": [],
   "source": [
    "add_intervals! = let \n",
    "    cur_y = 0\n",
    "\n",
    "    function add_intervals!(p, x1, x2, y=cur_y += 1)\n",
    "        addtraces!(p, scatter(;x=[x1, x2], y=[y,y], mode=\"lines+markers\"))\n",
    "    end\n",
    "end"
   ]
  },
  {
   "cell_type": "code",
   "execution_count": null,
   "metadata": {},
   "outputs": [],
   "source": [
    "p = plot()"
   ]
  },
  {
   "cell_type": "code",
   "execution_count": null,
   "metadata": {},
   "outputs": [],
   "source": [
    "add_intervals!(p, 1, 4)"
   ]
  },
  {
   "cell_type": "code",
   "execution_count": null,
   "metadata": {},
   "outputs": [],
   "source": [
    "add_intervals!(p, 2.5, 4)"
   ]
  }
 ],
 "metadata": {
  "kernelspec": {
   "display_name": "Julia 0.6.2",
   "language": "julia",
   "name": "julia-0.6"
  },
  "language_info": {
   "file_extension": ".jl",
   "mimetype": "application/julia",
   "name": "julia",
   "version": "0.6.2"
  }
 },
 "nbformat": 4,
 "nbformat_minor": 2
}
