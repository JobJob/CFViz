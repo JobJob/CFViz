{
 "cells": [
  {
   "cell_type": "code",
   "execution_count": null,
   "metadata": {},
   "outputs": [],
   "source": [
    "using PlotlyJS, ContinuedFractions"
   ]
  },
  {
   "cell_type": "code",
   "execution_count": null,
   "metadata": {},
   "outputs": [],
   "source": [
    "function bounds(cf::ContinuedFraction, n::Int)\n",
    "    a = quotients(cf)\n",
    "    pq = convergents(cf) |> collect  # TODO optimise\n",
    "    pn, qn = numerator(pq[n]), denominator(pq[n])\n",
    "    pn1, qn1 = n <= 1 ? (1, 0) : (numerator(pq[n-1]), denominator(pq[n-1]))\n",
    "    if n%2 == 1\n",
    "        (pn/qn, (pn + pn1)/(qn + qn1))\n",
    "    else\n",
    "        ((pn + pn1)/(qn + qn1), pn/qn)\n",
    "    end\n",
    "end"
   ]
  },
  {
   "cell_type": "code",
   "execution_count": null,
   "metadata": {},
   "outputs": [],
   "source": [
    "D = 4 # depth\n",
    "M = 5\n",
    "A4 = [1,23]\n",
    "all_bounds = Array{Tuple{Float64, Float64}, 3}(D, M, length(A4))\n",
    "for d = 2:D\n",
    "    for i = 1:M\n",
    "        for a4i = 1:length(A4)\n",
    "            cf1 = ContinuedFraction([0,i,4,A4[a4i]])\n",
    "            all_bounds[d, i, a4i] = bounds(cf1, d)\n",
    "        end\n",
    "    end\n",
    "end\n",
    "TT = scatter(;x=1:2, y=[10, 15], mode=\"lines+markers\") |> typeof\n",
    "traces = TT[]\n",
    "for d = 2:D\n",
    "    for i = 1:1\n",
    "        for a4i in 1:length(A4)\n",
    "            push!(traces, scatter(;x=all_bounds[d, i, a4i], y=[d-1,d-1], mode=\"lines+markers\"))\n",
    "        end\n",
    "    end\n",
    "end\n",
    "plot(traces)\n",
    "# all_bounds"
   ]
  },
  {
   "cell_type": "code",
   "execution_count": null,
   "metadata": {},
   "outputs": [],
   "source": [
    "# unfinished\n",
    "function bounds(cf::ContinuedFraction, n::Vector{Int}, k::Int)\n",
    "    q = quotients(cf)\n",
    "    (q[n[k]]/4, q[n[k]]/2)\n",
    "end"
   ]
  },
  {
   "cell_type": "markdown",
   "metadata": {},
   "source": [
    "---"
   ]
  },
  {
   "cell_type": "code",
   "execution_count": null,
   "metadata": {},
   "outputs": [],
   "source": [
    "convergents(cf1) |> collect"
   ]
  },
  {
   "cell_type": "code",
   "execution_count": null,
   "metadata": {},
   "outputs": [],
   "source": [
    "cf1 = ContinuedFraction([0,1,4])\n",
    "convergents(cf1) |> collect"
   ]
  },
  {
   "cell_type": "markdown",
   "metadata": {},
   "source": [
    "---"
   ]
  },
  {
   "cell_type": "code",
   "execution_count": null,
   "metadata": {},
   "outputs": [],
   "source": [
    "cf = ContinuedFraction(sqrt(2))\n",
    "quotients(cf)"
   ]
  },
  {
   "cell_type": "code",
   "execution_count": null,
   "metadata": {},
   "outputs": [],
   "source": [
    "cs = convergents(cf) |> collect"
   ]
  },
  {
   "cell_type": "code",
   "execution_count": null,
   "metadata": {},
   "outputs": [],
   "source": [
    "println.(Float64.(cs));"
   ]
  },
  {
   "cell_type": "code",
   "execution_count": null,
   "metadata": {},
   "outputs": [],
   "source": [
    "sqrt(2)"
   ]
  },
  {
   "cell_type": "code",
   "execution_count": null,
   "metadata": {},
   "outputs": [],
   "source": [
    "numerator(cs[3])"
   ]
  },
  {
   "cell_type": "markdown",
   "metadata": {},
   "source": [
    "---"
   ]
  },
  {
   "cell_type": "code",
   "execution_count": null,
   "metadata": {},
   "outputs": [],
   "source": [
    "add_intervals! = let \n",
    "    cur_y = 0\n",
    "\n",
    "    function add_intervals!(p, x1, x2, y=cur_y += 1)\n",
    "        addtraces!(p, scatter(;x=[x1, x2], y=[y,y], mode=\"lines+markers\"))\n",
    "    end\n",
    "end"
   ]
  },
  {
   "cell_type": "code",
   "execution_count": null,
   "metadata": {},
   "outputs": [],
   "source": [
    "p = plot()"
   ]
  },
  {
   "cell_type": "code",
   "execution_count": null,
   "metadata": {},
   "outputs": [],
   "source": [
    "add_intervals!(p, 1, 4)"
   ]
  },
  {
   "cell_type": "code",
   "execution_count": null,
   "metadata": {},
   "outputs": [],
   "source": [
    "add_intervals!(p, 2.5, 4)"
   ]
  }
 ],
 "metadata": {
  "kernelspec": {
   "display_name": "Julia 0.6.2",
   "language": "julia",
   "name": "julia-0.6"
  },
  "language_info": {
   "file_extension": ".jl",
   "mimetype": "application/julia",
   "name": "julia",
   "version": "0.6.2"
  }
 },
 "nbformat": 4,
 "nbformat_minor": 2
}
