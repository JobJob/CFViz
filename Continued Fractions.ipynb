{
 "cells": [
  {
   "cell_type": "code",
   "execution_count": null,
   "metadata": {},
   "outputs": [],
   "source": [
    "using PlotlyJS, ContinuedFractions"
   ]
  },
  {
   "cell_type": "code",
   "execution_count": null,
   "metadata": {},
   "outputs": [],
   "source": [
    "function bounds(cf::ContinuedFraction, n::Int)\n",
    "    a = quotients(cf)\n",
    "    pq = convergents(cf) |> collect  # TODO optimise\n",
    "    pn, qn = numerator(pq[n]), denominator(pq[n])\n",
    "    pn1, qn1 = n <= 1 ? (1, 0) : (numerator(pq[n-1]), denominator(pq[n-1]))\n",
    "    if n%2 == 1\n",
    "        (pn/qn, (pn + pn1)/(qn + qn1))\n",
    "    else\n",
    "        ((pn + pn1)/(qn + qn1), pn/qn)\n",
    "    end\n",
    "end"
   ]
  },
  {
   "cell_type": "code",
   "execution_count": null,
   "metadata": {},
   "outputs": [],
   "source": [
    "D = 4 # depth (number of converce steps to make)\n",
    "Q1range = 0:0 # == [0]\n",
    "Q2range = 1:5 # == [1,2,3,4,5]\n",
    "Q3range = 4:4 # == [4]\n",
    "Q4range = [1, 23]\n",
    "\n",
    "all_ranges = [Q1range, Q2range, Q3range, Q4range]\n",
    "all_bounds = Array{Tuple{Float64, Float64}, length(all_ranges) + 1}(undef, D, map(length, all_ranges)...)\n",
    "\n",
    "for d = 1:D\n",
    "  for (i1,q1) in enumerate(Q1range)\n",
    "    for (i2,q2) in enumerate(Q2range)\n",
    "      for (i3,q3) in enumerate(Q3range)\n",
    "        for (i4,q4) in enumerate(Q4range)\n",
    "          cf1 = ContinuedFraction([q1, q2, q3, q4])\n",
    "          all_bounds[d, i1, i2, i3, i4] = bounds(cf1, d)\n",
    "          d < 4 && break\n",
    "        end\n",
    "        d < 3 && break\n",
    "      end\n",
    "      d < 2 && break\n",
    "    end\n",
    "    d < 1 && break\n",
    "  end\n",
    "end\n",
    "\n",
    "# Plot related nonsense\n",
    "TT = scatter(;x=1:2, y=[10, 15], mode=\"lines+markers\") |> typeof\n",
    "traces = TT[]\n",
    "\n",
    "function get_label(qs, d)\n",
    "    qs4depth = qs[1:d]\n",
    "    qrest_str = join(qs4depth[2:end], \", \")\n",
    "    \"[$(qs4depth[1]); $qrest_str] at $(d)\"\n",
    "end\n",
    "\n",
    "# Create the plots for each CF at each convergence depth\n",
    "for d = 1:D\n",
    "  for (i1,q1) in enumerate(Q1range)\n",
    "    for (i2,q2) in enumerate(Q2range)\n",
    "      for (i3,q3) in enumerate(Q3range)\n",
    "        for (i4,q4) in enumerate(Q4range)\n",
    "          push!(traces, scatter(;x=all_bounds[d, i1, i2, i3, i4], y=[-d,-d], \n",
    "                                mode=\"lines+markers\", name=get_label([q1, q2, q3, q4],d)))\n",
    "          d < 4 && break\n",
    "        end\n",
    "        d < 3 && break\n",
    "      end\n",
    "      d < 2 && break\n",
    "    end\n",
    "    d < 1 && break\n",
    "  end\n",
    "end\n",
    "\n",
    "plot(traces)"
   ]
  },
  {
   "cell_type": "code",
   "execution_count": 6,
   "metadata": {},
   "outputs": [
    {
     "name": "stderr",
     "output_type": "stream",
     "text": [
      "┌ Info: Precompiling Primes [27ebfcd6-29c5-5fa9-bf4b-fb8fc14df3ae]\n",
      "└ @ Base loading.jl:1186\n"
     ]
    }
   ],
   "source": [
    "using Primes"
   ]
  },
  {
   "cell_type": "code",
   "execution_count": 11,
   "metadata": {},
   "outputs": [
    {
     "data": {
      "text/plain": [
       "21-element Array{Int64,1}:\n",
       " 9803\n",
       " 9811\n",
       " 9817\n",
       " 9829\n",
       " 9833\n",
       " 9839\n",
       " 9851\n",
       " 9857\n",
       " 9859\n",
       " 9871\n",
       " 9883\n",
       " 9887\n",
       " 9901\n",
       " 9907\n",
       " 9923\n",
       " 9929\n",
       " 9931\n",
       " 9941\n",
       " 9949\n",
       " 9967\n",
       " 9973"
      ]
     },
     "execution_count": 11,
     "metadata": {},
     "output_type": "execute_result"
    }
   ],
   "source": [
    "primes(10000)[end-20:end]"
   ]
  },
  {
   "cell_type": "code",
   "execution_count": 5,
   "metadata": {},
   "outputs": [
    {
     "name": "stdout",
     "output_type": "stream",
     "text": [
      "\u001b[32m\u001b[1m  Updating\u001b[22m\u001b[39m registry at `~/.julia/registries/General`\n",
      "\u001b[32m\u001b[1m  Updating\u001b[22m\u001b[39m git-repo `https://github.com/JuliaRegistries/General.git`\n",
      "\u001b[2K\u001b[?25h[1mFetching:\u001b[22m\u001b[39m [========================================>]  100.0 %.0 %\u001b[32m\u001b[1m Resolving\u001b[22m\u001b[39m package versions...\n",
      "\u001b[32m\u001b[1m Installed\u001b[22m\u001b[39m Primes ─ v0.4.0\n",
      "\u001b[32m\u001b[1m  Updating\u001b[22m\u001b[39m `~/.julia/environments/v1.0/Project.toml`\n",
      " \u001b[90m [27ebfcd6]\u001b[39m\u001b[92m + Primes v0.4.0\u001b[39m\n",
      "\u001b[32m\u001b[1m  Updating\u001b[22m\u001b[39m `~/.julia/environments/v1.0/Manifest.toml`\n",
      " \u001b[90m [27ebfcd6]\u001b[39m\u001b[92m + Primes v0.4.0\u001b[39m\n"
     ]
    }
   ],
   "source": [
    "using Pkg; Pkg.add(\"Primes\")"
   ]
  },
  {
   "cell_type": "code",
   "execution_count": null,
   "metadata": {},
   "outputs": [],
   "source": [
    "methods(ContinuedFraction)"
   ]
  },
  {
   "cell_type": "code",
   "execution_count": null,
   "metadata": {},
   "outputs": [],
   "source": [
    "# unfinished\n",
    "function bounds(cf::ContinuedFraction, n::Vector{Int}, k::Int)\n",
    "    q = quotients(cf)\n",
    "    (q[n[k]]/4, q[n[k]]/2)\n",
    "end"
   ]
  },
  {
   "cell_type": "markdown",
   "metadata": {},
   "source": [
    "---"
   ]
  },
  {
   "cell_type": "code",
   "execution_count": null,
   "metadata": {},
   "outputs": [],
   "source": [
    "convergents(cf1) |> collect"
   ]
  },
  {
   "cell_type": "code",
   "execution_count": null,
   "metadata": {},
   "outputs": [],
   "source": [
    "cf1 = ContinuedFraction([0,1,4])\n",
    "convergents(cf1) |> collect"
   ]
  },
  {
   "cell_type": "markdown",
   "metadata": {},
   "source": [
    "---"
   ]
  },
  {
   "cell_type": "code",
   "execution_count": null,
   "metadata": {},
   "outputs": [],
   "source": [
    "cf = ContinuedFraction(sqrt(2))\n",
    "quotients(cf)"
   ]
  },
  {
   "cell_type": "code",
   "execution_count": null,
   "metadata": {},
   "outputs": [],
   "source": [
    "cs = convergents(cf) |> collect"
   ]
  },
  {
   "cell_type": "code",
   "execution_count": null,
   "metadata": {},
   "outputs": [],
   "source": [
    "println.(Float64.(cs));"
   ]
  },
  {
   "cell_type": "code",
   "execution_count": null,
   "metadata": {},
   "outputs": [],
   "source": [
    "sqrt(2)"
   ]
  },
  {
   "cell_type": "code",
   "execution_count": null,
   "metadata": {},
   "outputs": [],
   "source": [
    "numerator(cs[3])"
   ]
  },
  {
   "cell_type": "markdown",
   "metadata": {},
   "source": [
    "---"
   ]
  },
  {
   "cell_type": "code",
   "execution_count": null,
   "metadata": {},
   "outputs": [],
   "source": [
    "add_intervals! = let \n",
    "    cur_y = 0\n",
    "\n",
    "    function add_intervals!(p, x1, x2, y=cur_y += 1)\n",
    "        addtraces!(p, scatter(;x=[x1, x2], y=[y,y], mode=\"lines+markers\"))\n",
    "    end\n",
    "end"
   ]
  },
  {
   "cell_type": "code",
   "execution_count": null,
   "metadata": {},
   "outputs": [],
   "source": [
    "p = plot()"
   ]
  },
  {
   "cell_type": "code",
   "execution_count": null,
   "metadata": {},
   "outputs": [],
   "source": [
    "add_intervals!(p, 1, 4)"
   ]
  },
  {
   "cell_type": "code",
   "execution_count": null,
   "metadata": {},
   "outputs": [],
   "source": [
    "add_intervals!(p, 2.5, 4)"
   ]
  }
 ],
 "metadata": {
  "kernelspec": {
   "display_name": "Julia 1.0.0",
   "language": "julia",
   "name": "julia-1.0"
  },
  "language_info": {
   "file_extension": ".jl",
   "mimetype": "application/julia",
   "name": "julia",
   "version": "1.0.0"
  }
 },
 "nbformat": 4,
 "nbformat_minor": 2
}
